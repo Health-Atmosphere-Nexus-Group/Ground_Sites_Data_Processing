{
 "cells": [
  {
   "cell_type": "markdown",
   "metadata": {},
   "source": [
    "## Adding Road Distance\n",
    "\n",
    "This code defines a function `add_road_dis` that calculates the distance from each location to the nearest primary road, within a specified geographic bounding box. The resulting distances are returned in kilometers as a new column in the data. This can be useful for analyzing the relationship between air quality and proximity to major roads.\n",
    "\n",
    "### Code Breakdown\n",
    "\n",
    "- **Inputs:**\n",
    "  - `data_dir`: The path to a CSV file (`./ground_pm25.csv`) containing air quality data, including columns for latitude (`lat`) and longitude (`lon`).\n",
    "  - `lon_min`, `lon_max`, `lat_min`, `lat_max`: Geographic bounds within which road data is collected.\n",
    "\n",
    "- **Function: `add_road_dis`**\n",
    "  - Reads the input CSV file into a DataFrame (`df`) and converts the latitude and longitude columns into a `GeoDataFrame`.\n",
    "  - Uses `osmnx` to download road network data for the specified bounding box, focusing on primary road types like motorways, trunks, and primary roads.\n",
    "  - Converts both the points and road data to UTM projection (`EPSG:26913`) for distance calculations.\n",
    "  - Uses a spatial join to find the nearest road for each PM2.5 measurement location and calculates the distance in kilometers (`road_dis_km`).\n",
    "\n",
    "- **Output:**\n",
    "  - Returns a DataFrame with an additional `road_dis_km` column, indicating each point’s distance to the nearest major road.\n"
   ]
  },
  {
   "cell_type": "code",
   "execution_count": 1,
   "metadata": {},
   "outputs": [
    {
     "name": "stderr",
     "output_type": "stream",
     "text": [
      "C:\\Users\\zzc00\\AppData\\Local\\Temp\\ipykernel_25860\\3666702511.py:21: FutureWarning: The `north`, `south`, `east`, and `west` parameters are deprecated and will be removed in the v2.0.0 release. Use the `bbox` parameter instead. See the OSMnx v2 migration guide: https://github.com/gboeing/osmnx/issues/1123\n",
      "  G = ox.graph_from_bbox(lat_max, lat_min, lon_max, lon_min, network_type='drive')\n",
      "C:\\Users\\zzc00\\AppData\\Local\\Temp\\ipykernel_25860\\3666702511.py:21: FutureWarning: The expected order of coordinates in `bbox` will change in the v2.0.0 release to `(left, bottom, right, top)`.\n",
      "  G = ox.graph_from_bbox(lat_max, lat_min, lon_max, lon_min, network_type='drive')\n",
      "c:\\Users\\zzc00\\anaconda3\\envs\\gpu\\lib\\site-packages\\osmnx\\_overpass.py:254: UserWarning: This area is 38 times your configured Overpass max query area size. It will automatically be divided up into multiple sub-queries accordingly. This may take a long time.\n",
      "  multi_poly_proj = utils_geo._consolidate_subdivide_geometry(poly_proj)\n"
     ]
    },
    {
     "name": "stdout",
     "output_type": "stream",
     "text": [
      "Successfully fetched roads within bounding box.\n",
      "          lon        lat  road_dis_km\n",
      "0 -106.287740  31.667520     0.603648\n",
      "1 -106.402802  31.746700     0.116397\n",
      "2 -106.455000  31.765600     0.022483\n",
      "3 -106.751211  32.310332     0.289801\n",
      "4 -106.287740  31.667520     0.603648\n",
      "0.02248281408562361 0.6036479220713542\n"
     ]
    }
   ],
   "source": [
    "import pandas as pd\n",
    "import geopandas as gpd\n",
    "from shapely.geometry import Point\n",
    "import osmnx as ox\n",
    "\n",
    "df_dir='./ground_pm25.csv'\n",
    "lon_min = -108\n",
    "lon_max = -105\n",
    "lat_min = 30\n",
    "lat_max = 33\n",
    "\n",
    "def add_road_dis(data_dir, lon_min, lon_max, lat_min, lat_max):\n",
    "    df = pd.read_csv(data_dir)\n",
    "    gdf_points = gpd.GeoDataFrame(\n",
    "        df, geometry=gpd.points_from_xy(df['lon'], df['lat']), crs='EPSG:4326'\n",
    "    )\n",
    "\n",
    "\n",
    "    try:\n",
    "        G = ox.graph_from_bbox(lat_max, lat_min, lon_max, lon_min, network_type='drive')\n",
    "        nodes, edges = ox.graph_to_gdfs(G, nodes=True, edges=True)\n",
    "        primary_roads = edges[edges['highway'].isin(['motorway', 'trunk', 'primary', 'secondary'])]\n",
    "        print(\"Successfully fetched roads within bounding box.\")\n",
    "    except Exception as e:\n",
    "        print(f\"Failed to fetch roads within bounding box, Error: {e}\")\n",
    "        return df\n",
    "    \n",
    "    utm_crs = 'EPSG:26913'\n",
    "    gdf_points_utm = gdf_points.to_crs(utm_crs)\n",
    "    primary_roads_utm = primary_roads.to_crs(utm_crs)\n",
    "    \n",
    "    nearest = gpd.sjoin_nearest(\n",
    "        gdf_points_utm, primary_roads_utm[['geometry']], how='left', distance_col='road_dis'\n",
    "    )\n",
    "    \n",
    "    df = df.reset_index(drop=True)\n",
    "    nearest = nearest.reset_index(drop=True)\n",
    "    \n",
    "    df['road_dis'] = nearest['road_dis']\n",
    "    df['road_dis_km'] = df['road_dis'] / 1000\n",
    "    df.drop(columns=['road_dis'], inplace=True)\n",
    "    return df\n",
    "\n",
    "\n",
    "df_with_distance = add_road_dis(df_dir, lon_min, lon_max, lat_min, lat_max)\n",
    "print(df_with_distance[['lon', 'lat', 'road_dis_km']].head())\n",
    "print(df_with_distance['road_dis_km'].min(), df_with_distance['road_dis_km'].max())"
   ]
  },
  {
   "cell_type": "code",
   "execution_count": null,
   "metadata": {},
   "outputs": [],
   "source": []
  }
 ],
 "metadata": {
  "kernelspec": {
   "display_name": "gpu",
   "language": "python",
   "name": "python3"
  },
  "language_info": {
   "codemirror_mode": {
    "name": "ipython",
    "version": 3
   },
   "file_extension": ".py",
   "mimetype": "text/x-python",
   "name": "python",
   "nbconvert_exporter": "python",
   "pygments_lexer": "ipython3",
   "version": "3.10.11"
  }
 },
 "nbformat": 4,
 "nbformat_minor": 2
}
